{
 "cells": [
  {
   "cell_type": "code",
   "execution_count": null,
   "id": "739b52ea-3d55-4a80-bd98-7b5d6509aea1",
   "metadata": {},
   "outputs": [],
   "source": [
    "import requests\n",
    "import matplotlib.pyplot as plt\n",
    "import time\n",
    "\n",
    "data_points = 0\n",
    "latitude_list = []\n",
    "longitude_list = []\n",
    "\n",
    "while data_points < 100:\n",
    "    response = requests.get(\"http://api.open-notify.org/iss-now.json\")\n",
    "    \n",
    "    if response.status_code == 200:\n",
    "        data = response.json()\n",
    "        latitude = float(data['iss_position']['latitude'])\n",
    "        longitude = float(data['iss_position']['longitude'])\n",
    "        latitude_list.append(latitude)\n",
    "        longitude_list.append(longitude)\n",
    "        data_points += 1\n",
    "        \n",
    "    else:\n",
    "        print(\"Error\")\n",
    "        \n",
    "    time.sleep(10)\n",
    "    \n",
    "plt.scatter(longitude_list, latitude_list, c = 'red', label = 'ISS')\n",
    "plt.title(\"Path of the International Space Station\")\n",
    "plt.xlabel(\"Longitude\")\n",
    "plt.ylabel(\"Latitude\")\n",
    "plt.legend()\n",
    "plt.show()"
   ]
  },
  {
   "cell_type": "code",
   "execution_count": null,
   "id": "530d1d00-25a3-4873-9625-41af1e6b5373",
   "metadata": {},
   "outputs": [],
   "source": []
  }
 ],
 "metadata": {
  "kernelspec": {
   "display_name": "Python 3 (ipykernel)",
   "language": "python",
   "name": "python3"
  },
  "language_info": {
   "codemirror_mode": {
    "name": "ipython",
    "version": 3
   },
   "file_extension": ".py",
   "mimetype": "text/x-python",
   "name": "python",
   "nbconvert_exporter": "python",
   "pygments_lexer": "ipython3",
   "version": "3.10.9"
  }
 },
 "nbformat": 4,
 "nbformat_minor": 5
}
